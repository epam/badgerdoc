{
 "cells": [
  {
   "cell_type": "code",
   "execution_count": null,
   "metadata": {
    "collapsed": true
   },
   "outputs": [],
   "source": [
    "#Run this cell to open ssh connection tunnel to current colab session via ngrok.\n",
    "#You need to be registered on ngrok website and provide your authtoken.\n",
    "#After establishing connection credentials will be stored at /content/credentials file.\n",
    "import urllib.request, json, getpass, secrets, time\n",
    "\n",
    "#Generate root password\n",
    "password = secrets.token_urlsafe(32)\n",
    "\n",
    "#Download ngrok\n",
    "! wget -q -c -nc https://bin.equinox.io/c/4VmDzA7iaHb/ngrok-stable-linux-amd64.zip\n",
    "! unzip -qq -n ngrok-stable-linux-amd64.zip\n",
    "\n",
    "#Setup sshd\n",
    "! apt-get install -qq -o=Dpkg::Use-Pty=0 openssh-server pwgen > /dev/null\n",
    "\n",
    "#Add user and password to credentials file\n",
    "! echo user=$(whoami) > ./credentials\n",
    "! echo password=$password >> ./credentials\n",
    "! echo $(whoami):$password | chpasswd\n",
    "\n",
    "#Configure sshd\n",
    "! mkdir -p /var/run/sshd\n",
    "! echo \"PermitRootLogin yes\" >> /etc/ssh/sshd_config\n",
    "! echo \"PasswordAuthentication yes\" >> /etc/ssh/sshd_config\n",
    "! echo \"LD_LIBRARY_PATH=/usr/lib64-nvidia\" >> /root/.bashrc\n",
    "! echo \"export LD_LIBRARY_PATH\" >> /root/.bashrc\n",
    "\n",
    "#Run sshd\n",
    "get_ipython().system_raw('/usr/sbin/sshd -D &')\n",
    "\n",
    "#Ask token\n",
    "authtoken = getpass.getpass(\n",
    "  prompt=\"Copy authtoken from https://dashboard.ngrok.com/auth here:\\n\"\n",
    ")\n",
    "\n",
    "#Create tunnel\n",
    "get_ipython().system_raw('./ngrok authtoken $authtoken && ./ngrok tcp 22 &')\n",
    "time.sleep(2)\n",
    "\n",
    "#Get public address and print connect command\n",
    "with urllib.request.urlopen('http://localhost:4040/api/tunnels') as response:\n",
    "  data = json.loads(response.read().decode())\n",
    "  host, port = data['tunnels'][0]['public_url'][6:].split(':')\n",
    "\n",
    "#Add host and port to credentials file\n",
    "! echo host=$host >> ./credentials\n",
    "! echo port=$port >> ./credentials"
   ]
  }
 ],
 "metadata": {
  "kernelspec": {
   "display_name": "Python 3",
   "language": "python",
   "name": "python3"
  },
  "language_info": {
   "codemirror_mode": {
    "name": "ipython",
    "version": 2
   },
   "file_extension": ".py",
   "mimetype": "text/x-python",
   "name": "python",
   "nbconvert_exporter": "python",
   "pygments_lexer": "ipython2",
   "version": "2.7.6"
  }
 },
 "nbformat": 4,
 "nbformat_minor": 0
}
